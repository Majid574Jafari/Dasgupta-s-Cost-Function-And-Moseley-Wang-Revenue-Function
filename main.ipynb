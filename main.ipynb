{
 "cells": [
  {
   "cell_type": "markdown",
   "metadata": {},
   "source": [
    "# Hierarchical Clustering Evaluation: Cost and Revenue Functions\n",
    "\n",
    "In hierarchical clustering, evaluating the quality of a clustering tree is crucial for ensuring that similar data points are grouped together while dissimilar ones are separated effectively. Two complementary measures to assess the quality of such clustering structures are **Dasgupta's cost function** and the **Moseley-Wang revenue function**. Both metrics leverage pairwise similarities between data points and the structure of the clustering tree, but they capture different aspects of clustering quality.\n",
    "\n",
    "## Dasgupta's Cost Function\n",
    "\n",
    "Dasgupta's cost function provides a quantitative measure of how well a hierarchical clustering captures the inherent similarity between data points. Consider an undirected graph $G = (V, E)$, where $V$ represents the data points and $E$ contains edges weighted by the similarity $w_{ij}$ between points $i$ and $j$. The cost associated with a clustering tree $T$ (whose leaves correspond to the original data points) is defined as:\n",
    "\n",
    "![Dasgupta's Cost Function](https://latex.codecogs.com/svg.image?\\text{Cost}_{\\text{Dasgupta}}(T)=\\sum_{i<j}w_{ij}\\cdot|T_{ij}|)\n",
    "\n",
    "Here, $|T_{ij}|$ denotes the number of leaves in the subtree rooted at the lowest common ancestor of $i$ and $j$ in $T$.\n",
    "\n",
    "## Moseley-Wang Revenue Function\n",
    "\n",
    "Complementing the cost function, the Moseley-Wang revenue function offers an alternative perspective by rewarding clusterings that efficiently separate dissimilar points. It is given by:\n",
    "\n",
    "![Moseley-Wang Revenue Function](https://latex.codecogs.com/svg.image?\\text{Revenue}_{\\text{Moseley-Wang}}(T)=\\sum_{i<j}w_{ij}\\cdot(n-|T_{ij}|))\n",
    "\n",
    "In this equation, $n$ denotes the total number of data points, and $|T_{ij}|$ is defined as above.\n",
    "\n",
    "## A Unified Perspective\n",
    "\n",
    "By considering both metrics together, one gains a comprehensive understanding of clustering quality:\n",
    "\n",
    "- **Dasgupta's Cost Function** focuses on **minimizing the cost** by ensuring that similar points are grouped together as early as possible. A lower cost indicates that the clustering effectively captures data similarities.\n",
    "- **Moseley-Wang Revenue Function** focuses on **maximizing the revenue** by rewarding clusterings that separate dissimilar points early in the hierarchy. A higher revenue signifies that the clustering structure is effective at isolating different groups.\n",
    "\n",
    "Together, these functions provide complementary insights into the performance of a hierarchical clustering method. They help balance the trade-off between creating tight clusters of similar points and ensuring that distinct clusters are well separated.\n",
    "\n",
    "In this project, our goal is to implement both the cost and revenue functions in Python, enabling a thorough evaluation of hierarchical clustering results.\n",
    "\n",
    "## References\n",
    "\n",
    "- **Dasgupta's Cost Function:**  \n",
    "  Sanjoy Dasgupta. \"[A Cost Function for Similarity-Based Hierarchical Clustering](https://arxiv.org/abs/1510.05043)\" (October 20, 2015).\n",
    "\n",
    "- **Moseley-Wang Revenue Function:**  \n",
    "  Benjamin Moseley and Y. Wang. \"[Hierarchical Clustering with Revenue Maximization](https://arxiv.org/abs/1706.04722)\" (2017).\n"
   ]
  },
  {
   "cell_type": "code",
   "execution_count": 1,
   "metadata": {},
   "outputs": [],
   "source": [
    "import pandas as pd\n",
    "import numpy as np\n",
    "import matplotlib.pyplot as plt\n",
    "from scipy.cluster.hierarchy import linkage, dendrogram\n",
    "from sklearn.metrics.pairwise import rbf_kernel\n"
   ]
  },
  {
   "cell_type": "markdown",
   "metadata": {},
   "source": [
    "### Create a pandas DataFrame with 30 samples and 5 features\n"
   ]
  },
  {
   "cell_type": "code",
   "execution_count": 2,
   "metadata": {},
   "outputs": [
    {
     "data": {
      "text/html": [
       "<div>\n",
       "<style scoped>\n",
       "    .dataframe tbody tr th:only-of-type {\n",
       "        vertical-align: middle;\n",
       "    }\n",
       "\n",
       "    .dataframe tbody tr th {\n",
       "        vertical-align: top;\n",
       "    }\n",
       "\n",
       "    .dataframe thead th {\n",
       "        text-align: right;\n",
       "    }\n",
       "</style>\n",
       "<table border=\"1\" class=\"dataframe\">\n",
       "  <thead>\n",
       "    <tr style=\"text-align: right;\">\n",
       "      <th></th>\n",
       "      <th>X 1</th>\n",
       "      <th>X 2</th>\n",
       "      <th>X 3</th>\n",
       "      <th>X 4</th>\n",
       "      <th>X 5</th>\n",
       "    </tr>\n",
       "  </thead>\n",
       "  <tbody>\n",
       "    <tr>\n",
       "      <th>0</th>\n",
       "      <td>0.374540</td>\n",
       "      <td>0.950714</td>\n",
       "      <td>0.731994</td>\n",
       "      <td>0.598658</td>\n",
       "      <td>0.156019</td>\n",
       "    </tr>\n",
       "    <tr>\n",
       "      <th>1</th>\n",
       "      <td>0.155995</td>\n",
       "      <td>0.058084</td>\n",
       "      <td>0.866176</td>\n",
       "      <td>0.601115</td>\n",
       "      <td>0.708073</td>\n",
       "    </tr>\n",
       "    <tr>\n",
       "      <th>2</th>\n",
       "      <td>0.020584</td>\n",
       "      <td>0.969910</td>\n",
       "      <td>0.832443</td>\n",
       "      <td>0.212339</td>\n",
       "      <td>0.181825</td>\n",
       "    </tr>\n",
       "    <tr>\n",
       "      <th>3</th>\n",
       "      <td>0.183405</td>\n",
       "      <td>0.304242</td>\n",
       "      <td>0.524756</td>\n",
       "      <td>0.431945</td>\n",
       "      <td>0.291229</td>\n",
       "    </tr>\n",
       "    <tr>\n",
       "      <th>4</th>\n",
       "      <td>0.611853</td>\n",
       "      <td>0.139494</td>\n",
       "      <td>0.292145</td>\n",
       "      <td>0.366362</td>\n",
       "      <td>0.456070</td>\n",
       "    </tr>\n",
       "  </tbody>\n",
       "</table>\n",
       "</div>"
      ],
      "text/plain": [
       "        X 1       X 2       X 3       X 4       X 5\n",
       "0  0.374540  0.950714  0.731994  0.598658  0.156019\n",
       "1  0.155995  0.058084  0.866176  0.601115  0.708073\n",
       "2  0.020584  0.969910  0.832443  0.212339  0.181825\n",
       "3  0.183405  0.304242  0.524756  0.431945  0.291229\n",
       "4  0.611853  0.139494  0.292145  0.366362  0.456070"
      ]
     },
     "execution_count": 2,
     "metadata": {},
     "output_type": "execute_result"
    }
   ],
   "source": [
    "np.random.seed(42)\n",
    "df = pd.DataFrame(np.random.rand(30, 5), \n",
    "                  columns=[\"X 1\", \"X 2\", \"X 3\", \"X 4\", \"X 5\"])\n",
    "df.head()"
   ]
  },
  {
   "cell_type": "markdown",
   "metadata": {},
   "source": [
    "### Build a tree structure from the linkage matrix\n"
   ]
  },
  {
   "cell_type": "code",
   "execution_count": 3,
   "metadata": {},
   "outputs": [],
   "source": [
    "# Define a Node class to hold tree information\n",
    "class Node:\n",
    "    def __init__(self, left=None, right=None, data=None, dist=0.0):\n",
    "        self.left = left         # left child\n",
    "        self.right = right       # right child\n",
    "        self.data = data         # for leaves: holds the label; for internals: None\n",
    "        self.dist = dist         # the merge distance (for internal nodes)\n",
    "        if left is None and right is None:\n",
    "            self.n_leaves = 1\n",
    "            self.leaf_indices = []  # will store the original index for leaves\n",
    "        else:\n",
    "            self.n_leaves = 0\n",
    "            self.leaf_indices = []\n",
    "    def __repr__(self):\n",
    "        if self.data is not None:\n",
    "            return f\"{self.data}\"\n",
    "        else:\n",
    "            return self.n_leaves , self.dist"
   ]
  },
  {
   "cell_type": "markdown",
   "metadata": {},
   "source": [
    "### Define functions to find the lowest common ancestor (LCA) & $ |T_{ij}| $\n"
   ]
  },
  {
   "cell_type": "code",
   "execution_count": 4,
   "metadata": {},
   "outputs": [],
   "source": [
    "def find_path(root, target):\n",
    "    if root == target:\n",
    "        return [root]\n",
    "    if root.left is not None:\n",
    "        left_path = find_path(root.left, target)\n",
    "        if left_path is not None:\n",
    "            return [root] + left_path\n",
    "    if root.right is not None:\n",
    "        right_path = find_path(root.right, target)\n",
    "        if right_path is not None:\n",
    "            return [root] + right_path\n",
    "    return None\n",
    "\n",
    "def lca(root, leaf1, leaf2):\n",
    "    path1 = find_path(root, leaf1)\n",
    "    path2 = find_path(root, leaf2)\n",
    "    lca_node = None\n",
    "    for n1, n2 in zip(path1, path2):\n",
    "        if n1 == n2:\n",
    "            lca_node = n1\n",
    "        else:\n",
    "            break\n",
    "    return lca_node"
   ]
  },
  {
   "cell_type": "markdown",
   "metadata": {},
   "source": [
    "### Function to Build a Tree from a Linkage Matrix with Leaf Nodes Storing Original Indices"
   ]
  },
  {
   "cell_type": "code",
   "execution_count": 5,
   "metadata": {},
   "outputs": [],
   "source": [
    "def build_tree(Z, labels):\n",
    "    n = len(labels)\n",
    "    nodes = {}\n",
    "    # Create leaf nodes for indices 0 to n-1\n",
    "    for i in range(n):\n",
    "        node = Node(data=labels[i], dist=0.0)\n",
    "        node.leaf_indices = [i]\n",
    "        nodes[i] = node\n",
    "    # Each row in Z represents a merge of two clusters\n",
    "    for i, row in enumerate(Z):\n",
    "        idx1, idx2, dist, count = row\n",
    "        idx1, idx2 = int(idx1), int(idx2)\n",
    "        new_node = Node(left=nodes[idx1], right=nodes[idx2], dist=dist)\n",
    "        new_node.leaf_indices = nodes[idx1].leaf_indices + nodes[idx2].leaf_indices\n",
    "        new_node.n_leaves = len(new_node.leaf_indices)\n",
    "        nodes[n + i] = new_node\n",
    "    root = nodes[max(nodes.keys())]\n",
    "    return root, nodes"
   ]
  },
  {
   "cell_type": "markdown",
   "metadata": {},
   "source": [
    "### Compute the linkage matrix using average linkage"
   ]
  },
  {
   "cell_type": "code",
   "execution_count": 6,
   "metadata": {},
   "outputs": [],
   "source": [
    "labels = [f\"Sample {i}\" for i in range(len(df))]\n",
    "Z = linkage(df.values, method='average')\n",
    "root, nodes = build_tree(Z, labels)"
   ]
  },
  {
   "cell_type": "markdown",
   "metadata": {},
   "source": [
    "### Plot dendrogram with vertical leaf labels "
   ]
  },
  {
   "cell_type": "code",
   "execution_count": 7,
   "metadata": {},
   "outputs": [
    {
     "data": {
      "image/png": "[encoded data removed]",
      "text/plain": [
       "<Figure size 1800x900 with 1 Axes>"
      ]
     },
     "metadata": {},
     "output_type": "display_data"
    }
   ],
   "source": [
    "plt.figure(figsize=(18, 9))\n",
    "data = dendrogram(Z, labels=labels, leaf_rotation=90)\n",
    "plt.title(\"Dendrogram (Average Linkage)\")\n",
    "plt.xlabel(\"Samples\")\n",
    "plt.ylabel(\"Distance\")\n",
    "plt.show()\n"
   ]
  },
  {
   "cell_type": "markdown",
   "metadata": {},
   "source": [
    "###  Examples of Calculating the Number of Leaves in the Subtree Rooted at the Lowest Common Ancestor (LCA) for Given Node Pairs\n"
   ]
  },
  {
   "cell_type": "code",
   "execution_count": 8,
   "metadata": {},
   "outputs": [
    {
     "name": "stdout",
     "output_type": "stream",
     "text": [
      " | T (Sample 7,Sample 14) | = 2\n",
      " | T (Sample 3,Sample 21) | = 3\n",
      " | T (Sample 15,Sample 11) | = 8\n",
      " | T (Sample 21,Sample 2) | = 7\n"
     ]
    }
   ],
   "source": [
    "\n",
    "node_pairs = [(nodes[7], nodes[14]),\n",
    "              (nodes[3], nodes[21]),\n",
    "              (nodes[15], nodes[11]),\n",
    "              (nodes[21], nodes[2])]\n",
    "\n",
    "for u, v in node_pairs:\n",
    "    print(f\" | T ({u},{v}) | = {lca(root, u, v).n_leaves}\")"
   ]
  },
  {
   "cell_type": "markdown",
   "metadata": {},
   "source": [
    "![My image](images/output.png)\n"
   ]
  },
  {
   "cell_type": "markdown",
   "metadata": {},
   "source": [
    "###  Hierarchical Clustering Metrics Implementation\n"
   ]
  },
  {
   "cell_type": "code",
   "execution_count": 9,
   "metadata": {},
   "outputs": [],
   "source": [
    "def calculate_metric(df, gamma, root, nodes, metric):\n",
    "    W = rbf_kernel(df.values, gamma=gamma)  # Constructing a Gaussian similarity matrix\n",
    "    n = W.shape[0]\n",
    "    result = 0.0\n",
    "    for i in range(n):\n",
    "        for j in range(i + 1, n):\n",
    "            n_leaves = lca(root, nodes[i], nodes[j]).n_leaves\n",
    "            result += W[i, j] * metric(n, n_leaves)\n",
    "    return result\n"
   ]
  },
  {
   "cell_type": "code",
   "execution_count": 10,
   "metadata": {},
   "outputs": [],
   "source": [
    "# List of gamma values to test\n",
    "gammas = [0.5, 0.7, 0.8, 1, 1.2, 1.5]"
   ]
  },
  {
   "cell_type": "markdown",
   "metadata": {},
   "source": [
    "### Compute Dasgupta's cost  $$ \\text{Cost}_{Dasgupta}(T) = \\sum_{i<j} w_{ij} \\cdot |T_{ij}| $$\n"
   ]
  },
  {
   "cell_type": "code",
   "execution_count": 11,
   "metadata": {},
   "outputs": [
    {
     "name": "stdout",
     "output_type": "stream",
     "text": [
      "Dasgupta's Cost:\n",
      "Gamma: 0.5, cost_Dasgupta: 5551.83\n",
      "Gamma: 0.7, cost_Dasgupta: 4634.62\n",
      "Gamma: 0.8, cost_Dasgupta: 4244.88\n",
      "Gamma: 1.0, cost_Dasgupta: 3577.72\n",
      "Gamma: 1.2, cost_Dasgupta: 3033.59\n",
      "Gamma: 1.5, cost_Dasgupta: 2393.86\n"
     ]
    }
   ],
   "source": [
    "# Calculate and print Dasgupta's cost for each gamma\n",
    "print(\"Dasgupta's Cost:\")\n",
    "for gamma in gammas:\n",
    "    cost = calculate_metric(df, gamma, root, nodes, metric=lambda n, n_leaves: n_leaves)\n",
    "    print(f\"Gamma: {gamma:.1f}, cost_Dasgupta: {cost:.2f}\")"
   ]
  },
  {
   "cell_type": "markdown",
   "metadata": {},
   "source": [
    "### Compute Moseley-Wang Revenue  $$ \\text{Revenue}_{Moseley-Wang}(T) = \\sum_{i<j} w_{ij} \\cdot |n - T_{ij}| $$\n"
   ]
  },
  {
   "cell_type": "code",
   "execution_count": 12,
   "metadata": {},
   "outputs": [
    {
     "name": "stdout",
     "output_type": "stream",
     "text": [
      "\n",
      "Moseley-Wang Revenue:\n",
      "Gamma: 0.5, Revenue_Moseley_Wang: 2976.89\n",
      "Gamma: 0.7, Revenue_Moseley_Wang: 2654.62\n",
      "Gamma: 0.8, Revenue_Moseley_Wang: 2511.44\n",
      "Gamma: 1.0, Revenue_Moseley_Wang: 2255.67\n",
      "Gamma: 1.2, Revenue_Moseley_Wang: 2034.81\n",
      "Gamma: 1.5, Revenue_Moseley_Wang: 1756.56\n"
     ]
    }
   ],
   "source": [
    "# Calculate and print Moseley-Wang revenue for each gamma\n",
    "print(\"\\nMoseley-Wang Revenue:\")\n",
    "for gamma in gammas:\n",
    "    revenue = calculate_metric(df, gamma, root, nodes, metric=lambda n, n_leaves: n - n_leaves)\n",
    "    print(f\"Gamma: {gamma:.1f}, Revenue_Moseley_Wang: {revenue:.2f}\")"
   ]
  }
 ],
 "metadata": {
  "kernelspec": {
   "display_name": "AhmadRAG",
   "language": "python",
   "name": "ahmadrag"
  },
  "language_info": {
   "codemirror_mode": {
    "name": "ipython",
    "version": 3
   },
   "file_extension": ".py",
   "mimetype": "text/x-python",
   "name": "python",
   "nbconvert_exporter": "python",
   "pygments_lexer": "ipython3",
   "version": "3.11.5"
  }
 },
 "nbformat": 4,
 "nbformat_minor": 2
}
